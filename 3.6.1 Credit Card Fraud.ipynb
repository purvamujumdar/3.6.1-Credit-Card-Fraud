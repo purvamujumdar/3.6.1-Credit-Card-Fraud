{
 "cells": [
  {
   "cell_type": "code",
   "execution_count": 1,
   "metadata": {},
   "outputs": [],
   "source": [
    "import pandas as pd\n",
    "import numpy as np\n",
    "import scipy\n",
    "import matplotlib.pyplot as plt\n",
    "%matplotlib inline\n",
    "import seaborn as sns\n",
    "from sklearn import linear_model\n",
    "from sklearn import preprocessing\n",
    "sns.set_style('white')"
   ]
  },
  {
   "cell_type": "code",
   "execution_count": 2,
   "metadata": {},
   "outputs": [],
   "source": [
    "df = pd.read_csv('/Users/purva/Desktop/Data Science Boot Camp/creditcard.csv')"
   ]
  },
  {
   "cell_type": "code",
   "execution_count": 3,
   "metadata": {},
   "outputs": [],
   "source": [
    "df = df.astype(int)"
   ]
  },
  {
   "cell_type": "markdown",
   "metadata": {},
   "source": [
    "## Logistic Regression"
   ]
  },
  {
   "cell_type": "code",
   "execution_count": 4,
   "metadata": {},
   "outputs": [
    {
     "name": "stderr",
     "output_type": "stream",
     "text": [
      "/usr/local/lib/python3.7/site-packages/sklearn/linear_model/logistic.py:432: FutureWarning: Default solver will be changed to 'lbfgs' in 0.22. Specify a solver to silence this warning.\n",
      "  FutureWarning)\n"
     ]
    },
    {
     "name": "stdout",
     "output_type": "stream",
     "text": [
      "Coefficients\n",
      "[[-8.73444117e-05  1.52164656e-01 -2.61420859e-01 -6.54129358e-01\n",
      "   1.86960490e-01 -3.06675576e-02 -1.46869150e-01  1.14843584e-01\n",
      "  -1.05794764e-01 -4.22293357e-01 -3.07196118e-01 -1.84715140e-01\n",
      "   1.48728918e-01 -3.02104321e-01 -8.63623718e-01 -9.42011551e-02\n",
      "  -2.15097499e-01 -5.36297315e-01 -1.91985415e-02  4.26555956e-02\n",
      "   1.92813985e-02  3.64172032e-02  7.27660597e-02 -2.50541146e-02\n",
      "   4.96566286e-02 -1.46378727e-02 -6.06893327e-02 -4.84815542e-02\n",
      "   4.57876482e-02 -5.61597314e-03]]\n",
      "[-1.28575256]\n",
      "\n",
      " Accuracy by fraud class\n",
      "Class       0    1\n",
      "row_0             \n",
      "0      284215  204\n",
      "1         100  288\n",
      "\n",
      " Percentage accuracy\n",
      "0.9989326105046575\n"
     ]
    }
   ],
   "source": [
    "lr = linear_model.LogisticRegression(C=1e9)\n",
    "Y = df['Class']\n",
    "X = df.iloc[:, ~(df.columns).isin(['Class'])]\n",
    "\n",
    "# Fit the model.\n",
    "fit = lr.fit(X, Y)\n",
    "\n",
    "# Display.\n",
    "print('Coefficients')\n",
    "print(fit.coef_)\n",
    "print(fit.intercept_)\n",
    "pred_y_sklearn = lr.predict(X)\n",
    "\n",
    "print('\\n Accuracy by fraud class')\n",
    "print(pd.crosstab(pred_y_sklearn, Y))\n",
    "\n",
    "print('\\n Percentage accuracy')\n",
    "print(lr.score(X, Y))"
   ]
  },
  {
   "cell_type": "markdown",
   "metadata": {},
   "source": [
    "## Which method is required?\n",
    "## Method to measure accuracy for unbalanced data set?"
   ]
  },
  {
   "cell_type": "code",
   "execution_count": null,
   "metadata": {},
   "outputs": [],
   "source": []
  }
 ],
 "metadata": {
  "kernelspec": {
   "display_name": "Python 3",
   "language": "python",
   "name": "python3"
  },
  "language_info": {
   "codemirror_mode": {
    "name": "ipython",
    "version": 3
   },
   "file_extension": ".py",
   "mimetype": "text/x-python",
   "name": "python",
   "nbconvert_exporter": "python",
   "pygments_lexer": "ipython3",
   "version": "3.7.0"
  }
 },
 "nbformat": 4,
 "nbformat_minor": 2
}
